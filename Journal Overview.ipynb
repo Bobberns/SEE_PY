{
 "cells": [
  {
   "cell_type": "markdown",
   "metadata": {},
   "source": [
    "<div align=\"center\"> \n",
    "\n",
    "###### *Assignment 4: by Jonaz Juan Sayson and Fabiola Villanueva*\n",
    "# **\"Sessa Emperical Estimator\"**\n",
    "\n",
    "</div>"
   ]
  },
  {
   "cell_type": "markdown",
   "metadata": {},
   "source": [
    "## Rationale and performances of a data‐driven method for computing the duration of pharmacological prescriptions using secondary data sources\n",
    "\n",
    "    - This paper presents a data driven method for estimating the duration of pharmacological prescriptions using secondary data sources when direct information on prescription length is missing\n",
    "  \n",
    "    - Introduces Sessa Empirical Estimator (SEE), which applies a k-means clustering algorithm to determine prescription duration based on real-world and simulated data\n",
    "  \n",
    "  "
   ]
  },
  {
   "cell_type": "markdown",
   "metadata": {},
   "source": [
    "#### How does Sessa Emperical Estimator (SEE) work?"
   ]
  },
  {
   "cell_type": "markdown",
   "metadata": {},
   "source": [
    "    - Uses k-means clustering to group patiens based on how often they refill prescriptions\n",
    "  \n",
    "    - Estimates length of each prescription using patters found in available prescription records\n",
    "\n",
    "    - Reduces the need for assumptions ex. assuming all patients only take 1 pill a day"
   ]
  },
  {
   "cell_type": "markdown",
   "metadata": {},
   "source": [
    "#### Generalized Step-by-Step process for using SEE"
   ]
  },
  {
   "cell_type": "markdown",
   "metadata": {},
   "source": [
    "- Collect Event Data\n",
    "  - Gather timestamped records of the recurring event\n",
    "  - Ex. Purchase history\n",
    "\n",
    "- Filter and Preprocess Data\n",
    "  - Remove outliers and inconsistent\n",
    "  - Standardize data formats\n",
    "\n",
    "- Extract Event Intervals\n",
    "  - Compute the time difference between consecutive events for each entity (ex. prescription refills, purchases, hospital visits)\n",
    "  - If data is sparse, exclude long gaps due to external factors\n",
    "\n",
    "- Randomly Select One Interval per Entity\n",
    "  - This prevents over-representing entities that have frequent occurrences.\n",
    "  - Example: If analyzing subscription renewals, use one renewal period per customer instead of all.\n",
    "\n",
    "- Standardize Time Intervals\n",
    "  - Normalize time intervals by scaling (subtract the mean and divide by the standard deviation).\n",
    "  - This ensures that the clustering algorithm treats all data points equally.\n",
    "\n",
    "- Apply K-Means Clustering\n",
    "  - Group entities based on similar interval patterns.\n",
    "  - Use Silhouette Analysis to determine the optimal number of clusters.\n",
    "\n",
    "- Assign a Duration for Each Cluster\n",
    "  - Calculate the median event interval for each cluster.\n",
    "  - Assign this median value as the estimated duration.\n",
    "\n",
    "- Compute Event End Times\n",
    "  - For each entity, estimate the end time of the event based on the assigned duration.\n"
   ]
  }
 ],
 "metadata": {
  "language_info": {
   "name": "python"
  }
 },
 "nbformat": 4,
 "nbformat_minor": 2
}
