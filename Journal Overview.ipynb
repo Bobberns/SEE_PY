{
 "cells": [
  {
   "cell_type": "markdown",
   "metadata": {},
   "source": [
    "<div align=\"center\"> \n",
    "\n",
    "###### *Assignment 4: by Jonaz Juan Sayson and Fabiola Villanueva*\n",
    "# **\"Sessa Emperical Estimator\"**\n",
    "\n",
    "</div>"
   ]
  }
 ],
 "metadata": {
  "language_info": {
   "name": "python"
  }
 },
 "nbformat": 4,
 "nbformat_minor": 2
}
