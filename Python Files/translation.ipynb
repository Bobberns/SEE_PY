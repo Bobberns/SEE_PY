{
 "cells": [
  {
   "cell_type": "markdown",
   "metadata": {},
   "source": [
    "\n",
    "<center><h1><i> \"R to Python\" <i></h1></center>"
   ]
  },
  {
   "cell_type": "markdown",
   "metadata": {},
   "source": [
    "### What does the R code even do?"
   ]
  },
  {
   "cell_type": "markdown",
   "metadata": {},
   "source": [
    "    To be able to translate something we should first understand what it's doing in the first place, we copy and pasted the R code into chatgpt with the prompt \"Explain what this R code is doing\" so we could get a better understand of what we're dealing with."
   ]
  },
  {
   "cell_type": "markdown",
   "metadata": {},
   "source": [
    "### ChatGPT Response Summarized w/ Translation:\n"
   ]
  },
  {
   "cell_type": "markdown",
   "metadata": {},
   "source": [
    "Data Preparation:\n",
    "\n",
    "- It first loads a variety of libraries (like dplyr, lubridate, data.table, factoextra, etc.) to handle data manipulation, date conversion, plotting, and clustering.\n",
    "    The dataset is copied into a variable named “tidy” and its columns are renamed to more meaningful labels (e.g. “pnr” for patient number, “eksd” for event date, “ATC” for drug classification, etc.).\n",
    "\n",
    "- The date column “eksd” is converted into a proper date format using the mdy() function from the lubridate package."
   ]
  },
  {
   "cell_type": "code",
   "execution_count": 2,
   "metadata": {},
   "outputs": [
    {
     "data": {
      "application/vnd.microsoft.datawrangler.viewer.v0+json": {
       "columns": [
        {
         "name": "index",
         "rawType": "int64",
         "type": "integer"
        },
        {
         "name": "pnr",
         "rawType": "int64",
         "type": "integer"
        },
        {
         "name": "eksd",
         "rawType": "object",
         "type": "string"
        },
        {
         "name": "perday",
         "rawType": "int64",
         "type": "integer"
        },
        {
         "name": "ATC",
         "rawType": "object",
         "type": "string"
        },
        {
         "name": "dur_original",
         "rawType": "int64",
         "type": "integer"
        }
       ],
       "conversionMethod": "pd.DataFrame",
       "ref": "95dc98c7-bf22-4c0a-9f1f-516531bf52aa",
       "rows": [
        [
         "0",
         "1",
         "2033-04-26",
         "4",
         "medA",
         "50"
        ],
        [
         "1",
         "1",
         "2033-07-04",
         "4",
         "medB",
         "30"
        ],
        [
         "2",
         "1",
         "2033-08-03",
         "4",
         "medB",
         "30"
        ],
        [
         "3",
         "1",
         "2033-08-17",
         "4",
         "medB",
         "30"
        ],
        [
         "4",
         "1",
         "2033-10-13",
         "4",
         "medB",
         "30"
        ]
       ],
       "shape": {
        "columns": 5,
        "rows": 5
       }
      },
      "text/html": [
       "<div>\n",
       "<style scoped>\n",
       "    .dataframe tbody tr th:only-of-type {\n",
       "        vertical-align: middle;\n",
       "    }\n",
       "\n",
       "    .dataframe tbody tr th {\n",
       "        vertical-align: top;\n",
       "    }\n",
       "\n",
       "    .dataframe thead th {\n",
       "        text-align: right;\n",
       "    }\n",
       "</style>\n",
       "<table border=\"1\" class=\"dataframe\">\n",
       "  <thead>\n",
       "    <tr style=\"text-align: right;\">\n",
       "      <th></th>\n",
       "      <th>pnr</th>\n",
       "      <th>eksd</th>\n",
       "      <th>perday</th>\n",
       "      <th>ATC</th>\n",
       "      <th>dur_original</th>\n",
       "    </tr>\n",
       "  </thead>\n",
       "  <tbody>\n",
       "    <tr>\n",
       "      <th>0</th>\n",
       "      <td>1</td>\n",
       "      <td>2033-04-26</td>\n",
       "      <td>4</td>\n",
       "      <td>medA</td>\n",
       "      <td>50</td>\n",
       "    </tr>\n",
       "    <tr>\n",
       "      <th>1</th>\n",
       "      <td>1</td>\n",
       "      <td>2033-07-04</td>\n",
       "      <td>4</td>\n",
       "      <td>medB</td>\n",
       "      <td>30</td>\n",
       "    </tr>\n",
       "    <tr>\n",
       "      <th>2</th>\n",
       "      <td>1</td>\n",
       "      <td>2033-08-03</td>\n",
       "      <td>4</td>\n",
       "      <td>medB</td>\n",
       "      <td>30</td>\n",
       "    </tr>\n",
       "    <tr>\n",
       "      <th>3</th>\n",
       "      <td>1</td>\n",
       "      <td>2033-08-17</td>\n",
       "      <td>4</td>\n",
       "      <td>medB</td>\n",
       "      <td>30</td>\n",
       "    </tr>\n",
       "    <tr>\n",
       "      <th>4</th>\n",
       "      <td>1</td>\n",
       "      <td>2033-10-13</td>\n",
       "      <td>4</td>\n",
       "      <td>medB</td>\n",
       "      <td>30</td>\n",
       "    </tr>\n",
       "  </tbody>\n",
       "</table>\n",
       "</div>"
      ],
      "text/plain": [
       "   pnr        eksd  perday   ATC  dur_original\n",
       "0    1  2033-04-26       4  medA            50\n",
       "1    1  2033-07-04       4  medB            30\n",
       "2    1  2033-08-03       4  medB            30\n",
       "3    1  2033-08-17       4  medB            30\n",
       "4    1  2033-10-13       4  medB            30"
      ]
     },
     "execution_count": 2,
     "metadata": {},
     "output_type": "execute_result"
    }
   ],
   "source": [
    "import pandas as pd\n",
    "import matplotlib as plt\n",
    "\n",
    "data = pd.read_csv(\"../Dataset/ExamplePats.csv\")\n",
    "\n",
    "data.head()\n"
   ]
  },
  {
   "cell_type": "markdown",
   "metadata": {},
   "source": [
    "- In this cell we load in the csv into our data variable and we call the data.head() function to see if we've successfully imported our data.\n",
    "  \n",
    "- Since the dataset has been properly formatted before hand, we wouldn't to change any formatting regarding the columns of the data and the format of the dates."
   ]
  },
  {
   "cell_type": "markdown",
   "metadata": {},
   "source": [
    "Function ‘See’: Analyzing Prescription Intervals for a Specific Drug\n",
    "The function See(arg1) takes a drug code (e.g., \"medA\" or \"medB\") and performs the following steps:\n",
    "\n",
    "- Subsetting the Data:\n",
    "It filters the dataset to include only records where the “ATC” column matches the given drug code.\n",
    "\n",
    "- Calculating Time Intervals:\n",
    "For each patient (grouped by “pnr”), the function computes the time difference (event interval) between consecutive prescription dates (“eksd”). It does this by arranging the events chronologically and using a lag function.\n",
    "\n",
    "- Random Sampling:\n",
    "For each patient, one prescription interval is randomly selected. This helps to standardize the sample for further analysis.\n",
    "\n",
    "- ECDF Plotting:\n",
    "An empirical cumulative distribution function (ECDF) is generated for the event intervals. The function then creates two plots: one for the lower 80% of the ECDF (to focus on the bulk of the data, likely reducing the influence of outliers) and one for the full ECDF. Both are saved as PNG files.\n",
    "\n",
    "- Histogram and Density Plot:\n",
    "A histogram of the number of events per patient is plotted. Then, the logarithm of the event intervals is taken and its density is computed and plotted. This log transformation can help normalize skewed interval data.\n",
    "\n",
    "- Clustering Analysis:\n",
    "The code performs silhouette analysis to determine the optimal number of clusters for the log-transformed intervals. Using k-means clustering, it then groups the intervals into clusters. For each cluster, summary statistics (minimum, maximum, median) are computed.\n",
    "The function then assigns a cluster (and the corresponding median duration) to each event based on whether its interval falls within the range of that cluster.\n",
    "\n",
    "- Merging Results:\n",
    "Finally, the original data (for the specified drug) is merged with the cluster results so that each record now includes an assigned “Median” (typical duration) and “Cluster” identifier."
   ]
  },
  {
   "cell_type": "code",
   "execution_count": null,
   "metadata": {},
   "outputs": [],
   "source": [
    "import pandas as pd\n",
    "import numpy as np\n",
    "import matplotlib.pyplot as plt\n",
    "import seaborn as sns\n",
    "from sklearn.cluster import KMeans\n",
    "from sklearn.metrics import silhouette_score\n",
    "\n",
    "# Helper function to compute ECDF\n",
    "def ecdf(data):\n",
    "    x = np.sort(data)\n",
    "    y = np.arange(1, len(x)+1) / len(x)\n",
    "    return x, y\n",
    "\n",
    "def see(drug_code, data):\n",
    "    # 1. Subset the data by the given drug code\n",
    "    drug_data = data[data['ATC'] == drug_code].copy()\n",
    "    \n",
    "    # 2. Convert the prescription date column to datetime and sort by patient and date\n",
    "    drug_data['eksd'] = pd.to_datetime(drug_data['eksd'])\n",
    "    drug_data = drug_data.sort_values(by=['pnr', 'eksd'])\n",
    "    \n",
    "    # Calculate previous prescription date for each patient using groupby and shift\n",
    "    drug_data['prev_eksd'] = drug_data.groupby('pnr')['eksd'].shift(1)\n",
    "    \n",
    "    # Remove the first prescription for each patient (no previous date)\n",
    "    drug_data = drug_data.dropna(subset=['prev_eksd']).copy()\n",
    "    \n",
    "    # 3. Calculate the time interval (in days) between consecutive prescriptions\n",
    "    drug_data['event_interval'] = (drug_data['eksd'] - drug_data['prev_eksd']).dt.days\n",
    "    \n",
    "    # 4. For each patient, randomly select one prescription interval\n",
    "    sampled = drug_data.groupby('pnr').apply(lambda x: x.sample(1)).reset_index(drop=True)\n",
    "    \n",
    "    # 5. ECDF Plotting\n",
    "    # Full ECDF\n",
    "    x_ecdf, y_ecdf = ecdf(sampled['event_interval'])\n",
    "    plt.figure()\n",
    "    plt.plot(x_ecdf, y_ecdf, marker='.', linestyle='none')\n",
    "    plt.xlabel('Event Interval (days)')\n",
    "    plt.ylabel('ECDF')\n",
    "    plt.title(f'Full ECDF for {drug_code}')\n",
    "    plt.savefig(f'ECDF_{drug_code}_full.png')\n",
    "    plt.close()\n",
    "    \n",
    "    # ECDF for lower 80% of intervals\n",
    "    cutoff = np.percentile(sampled['event_interval'], 80)\n",
    "    mask = sampled['event_interval'] <= cutoff\n",
    "    x_ecdf_80, y_ecdf_80 = ecdf(sampled.loc[mask, 'event_interval'])\n",
    "    plt.figure()\n",
    "    plt.plot(x_ecdf_80, y_ecdf_80, marker='.', linestyle='none')\n",
    "    plt.xlabel('Event Interval (days)')\n",
    "    plt.ylabel('ECDF')\n",
    "    plt.title(f'ECDF up to 80th percentile for {drug_code}')\n",
    "    plt.savefig(f'ECDF_{drug_code}_80.png')\n",
    "    plt.close()\n",
    "    \n",
    "    # 6. Histogram of the number of events per patient\n",
    "    events_per_patient = drug_data.groupby('pnr').size()\n",
    "    plt.figure()\n",
    "    events_per_patient.plot(kind='bar')\n",
    "    plt.xlabel('Patient (pnr)')\n",
    "    plt.ylabel('Number of events')\n",
    "    plt.title(f'Prescription Events per Patient for {drug_code}')\n",
    "    plt.savefig(f'Histogram_{drug_code}.png')\n",
    "    plt.close()\n",
    "    \n",
    "    # Density plot of log-transformed event intervals (using only intervals <= cutoff)\n",
    "    filtered_intervals = sampled[sampled['event_interval'] <= cutoff]['event_interval']\n",
    "    log_intervals = np.log(filtered_intervals)\n",
    "    plt.figure()\n",
    "    sns.kdeplot(log_intervals, shade=True)\n",
    "    plt.xlabel('log(Event Interval)')\n",
    "    plt.title(f'Density Plot of log(Event Interval) for {drug_code}')\n",
    "    plt.savefig(f'Density_{drug_code}.png')\n",
    "    plt.close()\n",
    "    \n",
    "    # 7. Clustering Analysis on log-transformed intervals\n",
    "    X = log_intervals.values.reshape(-1, 1)\n",
    "    best_k = 2\n",
    "    best_score = -1\n",
    "    scores = {}\n",
    "    # Try cluster numbers from 2 to 5\n",
    "    for k in range(2, 6):\n",
    "        kmeans = KMeans(n_clusters=k, random_state=1234).fit(X)\n",
    "        score = silhouette_score(X, kmeans.labels_)\n",
    "        scores[k] = score\n",
    "        if score > best_score:\n",
    "            best_score = score\n",
    "            best_k = k\n",
    "    print(\"Silhouette scores for different k:\", scores)\n",
    "    print(\"Optimal number of clusters:\", best_k)\n",
    "    \n",
    "    # Apply k-means clustering with the optimal number of clusters\n",
    "    kmeans = KMeans(n_clusters=best_k, random_state=1234).fit(X)\n",
    "    sampled['cluster'] = kmeans.labels_\n",
    "    \n",
    "    # Compute summary statistics for each cluster (on the original event_interval)\n",
    "    cluster_stats = sampled.groupby('cluster')['event_interval'].agg(['min', 'max', 'median']).reset_index()\n",
    "    \n",
    "    # 8. Merge cluster statistics with the sampled data\n",
    "    sampled = pd.merge(sampled, cluster_stats, on='cluster', suffixes=('', '_cluster'))\n",
    "    \n",
    "    # Merge the cluster info back into the full drug_data on patient ID (pnr)\n",
    "    merged = pd.merge(drug_data, sampled[['pnr', 'median', 'cluster']], on='pnr', how='left')\n",
    "    \n",
    "    # If any patient did not receive a cluster assignment, fill with overall median\n",
    "    overall_median = sampled['median'].median()\n",
    "    merged['median'] = merged['median'].fillna(overall_median)\n",
    "    merged['cluster'] = merged['cluster'].fillna(-1)\n",
    "    \n",
    "    return merged\n",
    "\n",
    "# Example usage:\n",
    "# Assuming you have your DataFrame loaded as \"tidy\"\n",
    "# result_medA = see(\"medA\", tidy)\n",
    "# result_medB = see(\"medB\", tidy)\n"
   ]
  },
  {
   "cell_type": "markdown",
   "metadata": {},
   "source": []
  }
 ],
 "metadata": {
  "kernelspec": {
   "display_name": "Python 3",
   "language": "python",
   "name": "python3"
  },
  "language_info": {
   "codemirror_mode": {
    "name": "ipython",
    "version": 3
   },
   "file_extension": ".py",
   "mimetype": "text/x-python",
   "name": "python",
   "nbconvert_exporter": "python",
   "pygments_lexer": "ipython3",
   "version": "3.13.2"
  }
 },
 "nbformat": 4,
 "nbformat_minor": 2
}
