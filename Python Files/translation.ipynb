{
 "cells": [
  {
   "cell_type": "markdown",
   "metadata": {},
   "source": [
    "\n",
    "<center><h1><i> \"R to Python\" <i></h1></center>"
   ]
  },
  {
   "cell_type": "markdown",
   "metadata": {},
   "source": [
    "### What does the R code even do?"
   ]
  },
  {
   "cell_type": "markdown",
   "metadata": {},
   "source": [
    "    To be able to translate something we should first understand what it's doing in the first place, we copy and pasted the R code into chatgpt with the prompt \"Explain what this R code is doing\" so we could get a better understand of what we're dealing with."
   ]
  },
  {
   "cell_type": "markdown",
   "metadata": {},
   "source": [
    "### ChatGPT Response Summarized w/ Translation:\n"
   ]
  },
  {
   "cell_type": "markdown",
   "metadata": {},
   "source": [
    "Data Preparation:\n",
    "\n",
    "- It first loads a variety of libraries (like dplyr, lubridate, data.table, factoextra, etc.) to handle data manipulation, date conversion, plotting, and clustering.\n",
    "    The dataset is copied into a variable named “tidy” and its columns are renamed to more meaningful labels (e.g. “pnr” for patient number, “eksd” for event date, “ATC” for drug classification, etc.).\n",
    "\n",
    "- The date column “eksd” is converted into a proper date format using the mdy() function from the lubridate package."
   ]
  },
  {
   "cell_type": "code",
   "execution_count": 18,
   "metadata": {},
   "outputs": [
    {
     "data": {
      "application/vnd.microsoft.datawrangler.viewer.v0+json": {
       "columns": [
        {
         "name": "index",
         "rawType": "int64",
         "type": "integer"
        },
        {
         "name": "pnr",
         "rawType": "int64",
         "type": "integer"
        },
        {
         "name": "eksd",
         "rawType": "object",
         "type": "string"
        },
        {
         "name": "perday",
         "rawType": "int64",
         "type": "integer"
        },
        {
         "name": "ATC",
         "rawType": "object",
         "type": "string"
        },
        {
         "name": "dur_original",
         "rawType": "int64",
         "type": "integer"
        }
       ],
       "conversionMethod": "pd.DataFrame",
       "ref": "17ee9d82-8d9e-4f18-8340-bff132e2fa53",
       "rows": [
        [
         "0",
         "1",
         "2033-04-26",
         "4",
         "medA",
         "50"
        ],
        [
         "1",
         "1",
         "2033-07-04",
         "4",
         "medB",
         "30"
        ],
        [
         "2",
         "1",
         "2033-08-03",
         "4",
         "medB",
         "30"
        ],
        [
         "3",
         "1",
         "2033-08-17",
         "4",
         "medB",
         "30"
        ],
        [
         "4",
         "1",
         "2033-10-13",
         "4",
         "medB",
         "30"
        ]
       ],
       "shape": {
        "columns": 5,
        "rows": 5
       }
      },
      "text/html": [
       "<div>\n",
       "<style scoped>\n",
       "    .dataframe tbody tr th:only-of-type {\n",
       "        vertical-align: middle;\n",
       "    }\n",
       "\n",
       "    .dataframe tbody tr th {\n",
       "        vertical-align: top;\n",
       "    }\n",
       "\n",
       "    .dataframe thead th {\n",
       "        text-align: right;\n",
       "    }\n",
       "</style>\n",
       "<table border=\"1\" class=\"dataframe\">\n",
       "  <thead>\n",
       "    <tr style=\"text-align: right;\">\n",
       "      <th></th>\n",
       "      <th>pnr</th>\n",
       "      <th>eksd</th>\n",
       "      <th>perday</th>\n",
       "      <th>ATC</th>\n",
       "      <th>dur_original</th>\n",
       "    </tr>\n",
       "  </thead>\n",
       "  <tbody>\n",
       "    <tr>\n",
       "      <th>0</th>\n",
       "      <td>1</td>\n",
       "      <td>2033-04-26</td>\n",
       "      <td>4</td>\n",
       "      <td>medA</td>\n",
       "      <td>50</td>\n",
       "    </tr>\n",
       "    <tr>\n",
       "      <th>1</th>\n",
       "      <td>1</td>\n",
       "      <td>2033-07-04</td>\n",
       "      <td>4</td>\n",
       "      <td>medB</td>\n",
       "      <td>30</td>\n",
       "    </tr>\n",
       "    <tr>\n",
       "      <th>2</th>\n",
       "      <td>1</td>\n",
       "      <td>2033-08-03</td>\n",
       "      <td>4</td>\n",
       "      <td>medB</td>\n",
       "      <td>30</td>\n",
       "    </tr>\n",
       "    <tr>\n",
       "      <th>3</th>\n",
       "      <td>1</td>\n",
       "      <td>2033-08-17</td>\n",
       "      <td>4</td>\n",
       "      <td>medB</td>\n",
       "      <td>30</td>\n",
       "    </tr>\n",
       "    <tr>\n",
       "      <th>4</th>\n",
       "      <td>1</td>\n",
       "      <td>2033-10-13</td>\n",
       "      <td>4</td>\n",
       "      <td>medB</td>\n",
       "      <td>30</td>\n",
       "    </tr>\n",
       "  </tbody>\n",
       "</table>\n",
       "</div>"
      ],
      "text/plain": [
       "   pnr        eksd  perday   ATC  dur_original\n",
       "0    1  2033-04-26       4  medA            50\n",
       "1    1  2033-07-04       4  medB            30\n",
       "2    1  2033-08-03       4  medB            30\n",
       "3    1  2033-08-17       4  medB            30\n",
       "4    1  2033-10-13       4  medB            30"
      ]
     },
     "execution_count": 18,
     "metadata": {},
     "output_type": "execute_result"
    }
   ],
   "source": [
    "import pandas as pd\n",
    "import matplotlib as plt\n",
    "\n",
    "data = pd.read_csv(\"../Dataset/ExamplePats.csv\")\n",
    "\n",
    "data.head()\n"
   ]
  },
  {
   "cell_type": "markdown",
   "metadata": {},
   "source": [
    "- In this cell we load in the csv into our data variable and we call the data.head() function to see if we've successfully imported our data.\n",
    "  \n",
    "- Since the dataset has been properly formatted before hand, we wouldn't to change any formatting regarding the columns of the data and the format of the dates."
   ]
  },
  {
   "cell_type": "markdown",
   "metadata": {},
   "source": [
    "## Function ‘See’: Analyzing Prescription Intervals for a Specific Drug\n",
    "The function See(arg1) takes a drug code (e.g., \"medA\" or \"medB\") and performs the following steps:\n",
    "\n",
    "- Subsetting the Data:\n",
    "It filters the dataset to include only records where the “ATC” column matches the given drug code.\n",
    "\n",
    "- Calculating Time Intervals:\n",
    "For each patient (grouped by “pnr”), the function computes the time difference (event interval) between consecutive prescription dates (“eksd”). It does this by arranging the events chronologically and using a lag function.\n",
    "\n",
    "- Random Sampling:\n",
    "For each patient, one prescription interval is randomly selected. This helps to standardize the sample for further analysis.\n",
    "\n",
    "- ECDF Plotting:\n",
    "An empirical cumulative distribution function (ECDF) is generated for the event intervals. The function then creates two plots: one for the lower 80% of the ECDF (to focus on the bulk of the data, likely reducing the influence of outliers) and one for the full ECDF. Both are saved as PNG files.\n",
    "\n",
    "- Histogram and Density Plot:\n",
    "A histogram of the number of events per patient is plotted. Then, the logarithm of the event intervals is taken and its density is computed and plotted. This log transformation can help normalize skewed interval data.\n",
    "\n",
    "- Clustering Analysis:\n",
    "The code performs silhouette analysis to determine the optimal number of clusters for the log-transformed intervals. Using k-means clustering, it then groups the intervals into clusters. For each cluster, summary statistics (minimum, maximum, median) are computed.\n",
    "The function then assigns a cluster (and the corresponding median duration) to each event based on whether its interval falls within the range of that cluster.\n",
    "\n",
    "- Merging Results:\n",
    "Finally, the original data (for the specified drug) is merged with the cluster results so that each record now includes an assigned “Median” (typical duration) and “Cluster” identifier."
   ]
  },
  {
   "cell_type": "code",
   "execution_count": null,
   "metadata": {},
   "outputs": [],
   "source": [
    "import pandas as pd\n",
    "import numpy as np\n",
    "import matplotlib.pyplot as plt\n",
    "import seaborn as sns\n",
    "from sklearn.cluster import KMeans\n",
    "from sklearn.metrics import silhouette_score\n",
    "\n",
    "# Helper function to compute ECDF\n",
    "def ecdf(data):\n",
    "    x = np.sort(data)\n",
    "    y = np.arange(1, len(x)+1) / len(x)\n",
    "    return x, y\n",
    "\n",
    "def see(drug_code, data):\n",
    "    # 1. Subset the data by the given drug code\n",
    "    drug_data = data[data['ATC'] == drug_code].copy()\n",
    "    \n",
    "    # 2. Convert the prescription date column to datetime and sort by patient and date\n",
    "    drug_data['eksd'] = pd.to_datetime(drug_data['eksd'])\n",
    "    drug_data = drug_data.sort_values(by=['pnr', 'eksd'])\n",
    "    \n",
    "    # Calculate previous prescription date for each patient using groupby and shift\n",
    "    drug_data['prev_eksd'] = drug_data.groupby('pnr')['eksd'].shift(1)\n",
    "    \n",
    "    # Remove the first prescription for each patient (no previous date)\n",
    "    drug_data = drug_data.dropna(subset=['prev_eksd']).copy()\n",
    "    \n",
    "    # 3. Calculate the time interval (in days) between consecutive prescriptions\n",
    "    drug_data['event_interval'] = (drug_data['eksd'] - drug_data['prev_eksd']).dt.days\n",
    "    \n",
    "    # 4. For each patient, randomly select one prescription interval\n",
    "    sampled = drug_data.groupby('pnr').apply(lambda x: x.sample(1)).reset_index(drop=True)\n",
    "    \n",
    "    # 5. ECDF Plotting\n",
    "    # Full ECDF\n",
    "    x_ecdf, y_ecdf = ecdf(sampled['event_interval'])\n",
    "    plt.figure()\n",
    "    plt.plot(x_ecdf, y_ecdf, marker='.', linestyle='none')\n",
    "    plt.xlabel('Event Interval (days)')\n",
    "    plt.ylabel('ECDF')\n",
    "    plt.title(f'Full ECDF for {drug_code}')\n",
    "    plt.savefig(f'ECDF_{drug_code}_full.png')\n",
    "    plt.close()\n",
    "    \n",
    "    # ECDF for lower 80% of intervals\n",
    "    cutoff = np.percentile(sampled['event_interval'], 80)\n",
    "    mask = sampled['event_interval'] <= cutoff\n",
    "    x_ecdf_80, y_ecdf_80 = ecdf(sampled.loc[mask, 'event_interval'])\n",
    "    plt.figure()\n",
    "    plt.plot(x_ecdf_80, y_ecdf_80, marker='.', linestyle='none')\n",
    "    plt.xlabel('Event Interval (days)')\n",
    "    plt.ylabel('ECDF')\n",
    "    plt.title(f'ECDF up to 80th percentile for {drug_code}')\n",
    "    plt.savefig(f'ECDF_{drug_code}_80.png')\n",
    "    plt.close()\n",
    "    \n",
    "    # 6. Histogram of the number of events per patient\n",
    "    events_per_patient = drug_data.groupby('pnr').size()\n",
    "    plt.figure()\n",
    "    events_per_patient.plot(kind='bar')\n",
    "    plt.xlabel('Patient (pnr)')\n",
    "    plt.ylabel('Number of events')\n",
    "    plt.title(f'Prescription Events per Patient for {drug_code}')\n",
    "    plt.savefig(f'Histogram_{drug_code}.png')\n",
    "    plt.close()\n",
    "    \n",
    "    # Density plot of log-transformed event intervals (using only intervals <= cutoff)\n",
    "    filtered_intervals = sampled[sampled['event_interval'] <= cutoff]['event_interval']\n",
    "    log_intervals = np.log(filtered_intervals)\n",
    "    plt.figure()\n",
    "    sns.kdeplot(log_intervals, shade=True)\n",
    "    plt.xlabel('log(Event Interval)')\n",
    "    plt.title(f'Density Plot of log(Event Interval) for {drug_code}')\n",
    "    plt.savefig(f'Density_{drug_code}.png')\n",
    "    plt.close()\n",
    "    \n",
    "   # 7. Clustering Analysis on log-transformed intervals (for filtered data only)\n",
    "    cutoff = np.percentile(sampled['event_interval'], 80)\n",
    "    mask_filtered = sampled['event_interval'] <= cutoff\n",
    "    filtered_sampled = sampled[mask_filtered].copy()\n",
    "    # Compute log-transformed intervals for the filtered rows\n",
    "    X = np.log(filtered_sampled['event_interval'].values).reshape(-1, 1)\n",
    "    \n",
    "    best_k = 2\n",
    "    best_score = -1\n",
    "    scores = {}\n",
    "    # Try cluster numbers from 2 to 5\n",
    "    for k in range(2, 6):\n",
    "        kmeans_temp = KMeans(n_clusters=k, random_state=1234).fit(X)\n",
    "        score = silhouette_score(X, kmeans_temp.labels_)\n",
    "        scores[k] = score\n",
    "        if score > best_score:\n",
    "            best_score = score\n",
    "            best_k = k\n",
    "    print(\"Silhouette scores for different k:\", scores)\n",
    "    print(\"Optimal number of clusters:\", best_k)\n",
    "    \n",
    "    # Apply k-means clustering with the optimal number of clusters on the filtered data\n",
    "    kmeans = KMeans(n_clusters=best_k, random_state=1234).fit(X)\n",
    "    filtered_sampled['cluster'] = kmeans.labels_\n",
    "    \n",
    "    # Compute summary statistics for each cluster (on the original event_interval)\n",
    "    cluster_stats = filtered_sampled.groupby('cluster')['event_interval'].agg(['min', 'max', 'median']).reset_index()\n",
    "    \n",
    "    # Merge the cluster labels from filtered_sampled back into the full sampled DataFrame.\n",
    "    # For patients that did not meet the filtering criterion, the cluster will be NaN.\n",
    "    sampled = pd.merge(sampled, filtered_sampled[['pnr', 'cluster']], on='pnr', how='left')\n",
    "    \n",
    "    # Merge the cluster summary statistics (specifically the 'median') back into sampled.\n",
    "    sampled = pd.merge(sampled, cluster_stats[['cluster', 'median']], on='cluster', how='left')\n",
    "    \n",
    "    # 8. Merge the cluster info back into the full drug_data on patient ID (pnr)\n",
    "    merged = pd.merge(drug_data, sampled[['pnr', 'median', 'cluster']], on='pnr', how='left')\n",
    "    \n",
    "    # If any patient did not receive a cluster assignment, fill with overall median\n",
    "    overall_median = sampled['median'].median()\n",
    "    merged['median'] = merged['median'].fillna(overall_median)\n",
    "    merged['cluster'] = merged['cluster'].fillna(-1)\n",
    "    \n",
    "    return merged\n",
    "\n",
    "# Example usage:\n",
    "# Assuming you have your DataFrame loaded as \"tidy\"\n",
    "# result_medA = see(\"medA\", tidy)\n",
    "# result_medB = see(\"medB\", tidy)\n"
   ]
  },
  {
   "cell_type": "markdown",
   "metadata": {},
   "source": [
    "## Function ‘see_assumption’: Visualizing Sequential Prescription Patterns\n",
    "The function see_assumption(arg1) takes a dataset (for example, the output from See()) and:\n",
    "\n",
    "- Groups the data by patient and assigns a sequential number (p_number) to each prescription event.\n",
    "\n",
    "- Calculates the duration between consecutive prescriptions (using the previously computed “prev_eksd” and “eksd” values).\n",
    "\n",
    "- Creates a boxplot of these durations against the prescription sequence number. A horizontal dashed line is overlaid to show the overall median duration across patients.\n",
    "\n",
    "- This plot helps in visualizing whether the time between prescriptions changes as patients accumulate more events."
   ]
  },
  {
   "cell_type": "markdown",
   "metadata": {},
   "source": []
  },
  {
   "cell_type": "code",
   "execution_count": 20,
   "metadata": {},
   "outputs": [],
   "source": [
    "import pandas as pd\n",
    "import matplotlib.pyplot as plt\n",
    "import seaborn as sns\n",
    "\n",
    "def see_assumption(data):\n",
    "    \"\"\"\n",
    "    Visualize sequential prescription patterns.\n",
    "\n",
    "    Parameters:\n",
    "      data (DataFrame): A DataFrame that includes at least the columns 'pnr', 'eksd', and 'prev_eksd'.\n",
    "                        It is assumed that 'eksd' (and 'prev_eksd', if present) are datetime strings or already in datetime format.\n",
    "\n",
    "    Returns:\n",
    "      The matplotlib figure object of the generated boxplot.\n",
    "    \"\"\"\n",
    "    # Make a copy of the data\n",
    "    df = data.copy()\n",
    "    \n",
    "    # Ensure that 'eksd' is in datetime format\n",
    "    df['eksd'] = pd.to_datetime(df['eksd'])\n",
    "    \n",
    "    # If 'prev_eksd' exists, ensure it is in datetime format\n",
    "    if 'prev_eksd' in df.columns:\n",
    "        df['prev_eksd'] = pd.to_datetime(df['prev_eksd'])\n",
    "    \n",
    "    # Group by patient ('pnr') and assign a sequential prescription number\n",
    "    df['p_number'] = df.groupby('pnr').cumcount() + 1\n",
    "\n",
    "    # We can only compute a duration if a patient has at least two prescriptions.\n",
    "    # Filter the data to include only events with a prescription number of 2 or more.\n",
    "    df_filtered = df[df['p_number'] >= 2].copy()\n",
    "    \n",
    "    # Calculate the duration (in days) between consecutive prescriptions.\n",
    "    # If the 'Duration' column doesn't exist, create it.\n",
    "    if 'Duration' not in df_filtered.columns:\n",
    "        df_filtered['Duration'] = (df_filtered['eksd'] - df_filtered['prev_eksd']).dt.days\n",
    "    \n",
    "    # Create a boxplot with prescription sequence number on the x-axis and duration on the y-axis.\n",
    "    plt.figure(figsize=(10, 6))\n",
    "    sns.boxplot(x='p_number', y='Duration', data=df_filtered)\n",
    "    \n",
    "    # Calculate the overall median duration across patients.\n",
    "    overall_median = df_filtered['Duration'].median()\n",
    "    \n",
    "    # Overlay a horizontal dashed line at the median duration.\n",
    "    plt.axhline(overall_median, linestyle='--', color='red', \n",
    "                label=f'Overall Median: {overall_median} days')\n",
    "    plt.legend()\n",
    "    \n",
    "    # Add labels and title\n",
    "    plt.xlabel('Prescription Sequence Number')\n",
    "    plt.ylabel('Duration between Prescriptions (days)')\n",
    "    plt.title('Boxplot of Prescription Durations by Sequence Number')\n",
    "    \n",
    "    # Save the plot to a PNG file (it will be stored in the current working directory)\n",
    "    plt.savefig('see_assumption_boxplot.png')\n",
    "    \n",
    "    # Display the plot\n",
    "    plt.show()\n",
    "    \n",
    "    # Optionally, return the current figure\n",
    "    return plt.gcf()\n",
    "\n",
    "# Example usage:\n",
    "# If you have already run your 'see' function and stored the result in 'result_medA':\n",
    "# fig = see_assumption(result_medA)\n"
   ]
  },
  {
   "cell_type": "markdown",
   "metadata": {},
   "source": [
    "## Execution and Output:\n",
    "\n",
    "- The script applies the See() function for two different drug codes: \"medA\" and \"medB\", creating two separate subsets of the data with their corresponding analyses.\n",
    "\n",
    "- Then, it calls see_assumption() on both of these subsets to generate boxplots that depict the distribution of prescription intervals by order (i.e., 2nd prescription, 3rd prescription, etc.).\n",
    "\n",
    "- All plots (ECDFs, histogram, density plot, silhouette plot, and the boxplots) are saved as PNG files."
   ]
  },
  {
   "cell_type": "code",
   "execution_count": 21,
   "metadata": {},
   "outputs": [
    {
     "name": "stderr",
     "output_type": "stream",
     "text": [
      "C:\\Users\\jonaz\\AppData\\Local\\Temp\\ipykernel_24296\\2661304626.py:32: DeprecationWarning: DataFrameGroupBy.apply operated on the grouping columns. This behavior is deprecated, and in a future version of pandas the grouping columns will be excluded from the operation. Either pass `include_groups=False` to exclude the groupings or explicitly select the grouping columns after groupby to silence this warning.\n",
      "  sampled = drug_data.groupby('pnr').apply(lambda x: x.sample(1)).reset_index(drop=True)\n"
     ]
    },
    {
     "name": "stdout",
     "output_type": "stream",
     "text": [
      "Silhouette scores for different k: {2: np.float64(0.5735251864823626), 3: np.float64(0.5512904230975371), 4: np.float64(0.59880119404813), 5: np.float64(0.6280316569416918)}\n",
      "Optimal number of clusters: 5\n"
     ]
    },
    {
     "name": "stderr",
     "output_type": "stream",
     "text": [
      "C:\\Users\\jonaz\\AppData\\Local\\Temp\\ipykernel_24296\\2661304626.py:71: FutureWarning: \n",
      "\n",
      "`shade` is now deprecated in favor of `fill`; setting `fill=True`.\n",
      "This will become an error in seaborn v0.14.0; please update your code.\n",
      "\n",
      "  sns.kdeplot(log_intervals, shade=True)\n"
     ]
    },
    {
     "ename": "KeyError",
     "evalue": "\"['median'] not in index\"",
     "output_type": "error",
     "traceback": [
      "\u001b[1;31m---------------------------------------------------------------------------\u001b[0m",
      "\u001b[1;31mKeyError\u001b[0m                                  Traceback (most recent call last)",
      "Cell \u001b[1;32mIn[21], line 2\u001b[0m\n\u001b[0;32m      1\u001b[0m \u001b[38;5;66;03m# Execute the analysis for drug code \"medA\"\u001b[39;00m\n\u001b[1;32m----> 2\u001b[0m result_medA \u001b[38;5;241m=\u001b[39m \u001b[43msee\u001b[49m\u001b[43m(\u001b[49m\u001b[38;5;124;43m\"\u001b[39;49m\u001b[38;5;124;43mmedA\u001b[39;49m\u001b[38;5;124;43m\"\u001b[39;49m\u001b[43m,\u001b[49m\u001b[43m \u001b[49m\u001b[43mdata\u001b[49m\u001b[43m)\u001b[49m\n\u001b[0;32m      3\u001b[0m \u001b[38;5;66;03m# Execute the analysis for drug code \"medB\"\u001b[39;00m\n\u001b[0;32m      4\u001b[0m result_medB \u001b[38;5;241m=\u001b[39m see(\u001b[38;5;124m\"\u001b[39m\u001b[38;5;124mmedB\u001b[39m\u001b[38;5;124m\"\u001b[39m, data)\n",
      "Cell \u001b[1;32mIn[19], line 110\u001b[0m, in \u001b[0;36msee\u001b[1;34m(drug_code, data)\u001b[0m\n\u001b[0;32m    106\u001b[0m sampled \u001b[38;5;241m=\u001b[39m pd\u001b[38;5;241m.\u001b[39mmerge(sampled, filtered_sampled[[\u001b[38;5;124m'\u001b[39m\u001b[38;5;124mpnr\u001b[39m\u001b[38;5;124m'\u001b[39m, \u001b[38;5;124m'\u001b[39m\u001b[38;5;124mcluster\u001b[39m\u001b[38;5;124m'\u001b[39m]], on\u001b[38;5;241m=\u001b[39m\u001b[38;5;124m'\u001b[39m\u001b[38;5;124mpnr\u001b[39m\u001b[38;5;124m'\u001b[39m, how\u001b[38;5;241m=\u001b[39m\u001b[38;5;124m'\u001b[39m\u001b[38;5;124mleft\u001b[39m\u001b[38;5;124m'\u001b[39m)\n\u001b[0;32m    109\u001b[0m \u001b[38;5;66;03m# Merge the cluster info back into the full drug_data on patient ID (pnr)\u001b[39;00m\n\u001b[1;32m--> 110\u001b[0m merged \u001b[38;5;241m=\u001b[39m pd\u001b[38;5;241m.\u001b[39mmerge(drug_data, \u001b[43msampled\u001b[49m\u001b[43m[\u001b[49m\u001b[43m[\u001b[49m\u001b[38;5;124;43m'\u001b[39;49m\u001b[38;5;124;43mpnr\u001b[39;49m\u001b[38;5;124;43m'\u001b[39;49m\u001b[43m,\u001b[49m\u001b[43m \u001b[49m\u001b[38;5;124;43m'\u001b[39;49m\u001b[38;5;124;43mmedian\u001b[39;49m\u001b[38;5;124;43m'\u001b[39;49m\u001b[43m,\u001b[49m\u001b[43m \u001b[49m\u001b[38;5;124;43m'\u001b[39;49m\u001b[38;5;124;43mcluster\u001b[39;49m\u001b[38;5;124;43m'\u001b[39;49m\u001b[43m]\u001b[49m\u001b[43m]\u001b[49m, on\u001b[38;5;241m=\u001b[39m\u001b[38;5;124m'\u001b[39m\u001b[38;5;124mpnr\u001b[39m\u001b[38;5;124m'\u001b[39m, how\u001b[38;5;241m=\u001b[39m\u001b[38;5;124m'\u001b[39m\u001b[38;5;124mleft\u001b[39m\u001b[38;5;124m'\u001b[39m)\n\u001b[0;32m    112\u001b[0m \u001b[38;5;66;03m# If any patient did not receive a cluster assignment, fill with overall median\u001b[39;00m\n\u001b[0;32m    113\u001b[0m overall_median \u001b[38;5;241m=\u001b[39m sampled[\u001b[38;5;124m'\u001b[39m\u001b[38;5;124mmedian\u001b[39m\u001b[38;5;124m'\u001b[39m]\u001b[38;5;241m.\u001b[39mmedian()\n",
      "File \u001b[1;32mc:\\Users\\jonaz\\AppData\\Local\\Programs\\Python\\Python313\\Lib\\site-packages\\pandas\\core\\frame.py:4108\u001b[0m, in \u001b[0;36mDataFrame.__getitem__\u001b[1;34m(self, key)\u001b[0m\n\u001b[0;32m   4106\u001b[0m     \u001b[38;5;28;01mif\u001b[39;00m is_iterator(key):\n\u001b[0;32m   4107\u001b[0m         key \u001b[38;5;241m=\u001b[39m \u001b[38;5;28mlist\u001b[39m(key)\n\u001b[1;32m-> 4108\u001b[0m     indexer \u001b[38;5;241m=\u001b[39m \u001b[38;5;28;43mself\u001b[39;49m\u001b[38;5;241;43m.\u001b[39;49m\u001b[43mcolumns\u001b[49m\u001b[38;5;241;43m.\u001b[39;49m\u001b[43m_get_indexer_strict\u001b[49m\u001b[43m(\u001b[49m\u001b[43mkey\u001b[49m\u001b[43m,\u001b[49m\u001b[43m \u001b[49m\u001b[38;5;124;43m\"\u001b[39;49m\u001b[38;5;124;43mcolumns\u001b[39;49m\u001b[38;5;124;43m\"\u001b[39;49m\u001b[43m)\u001b[49m[\u001b[38;5;241m1\u001b[39m]\n\u001b[0;32m   4110\u001b[0m \u001b[38;5;66;03m# take() does not accept boolean indexers\u001b[39;00m\n\u001b[0;32m   4111\u001b[0m \u001b[38;5;28;01mif\u001b[39;00m \u001b[38;5;28mgetattr\u001b[39m(indexer, \u001b[38;5;124m\"\u001b[39m\u001b[38;5;124mdtype\u001b[39m\u001b[38;5;124m\"\u001b[39m, \u001b[38;5;28;01mNone\u001b[39;00m) \u001b[38;5;241m==\u001b[39m \u001b[38;5;28mbool\u001b[39m:\n",
      "File \u001b[1;32mc:\\Users\\jonaz\\AppData\\Local\\Programs\\Python\\Python313\\Lib\\site-packages\\pandas\\core\\indexes\\base.py:6200\u001b[0m, in \u001b[0;36mIndex._get_indexer_strict\u001b[1;34m(self, key, axis_name)\u001b[0m\n\u001b[0;32m   6197\u001b[0m \u001b[38;5;28;01melse\u001b[39;00m:\n\u001b[0;32m   6198\u001b[0m     keyarr, indexer, new_indexer \u001b[38;5;241m=\u001b[39m \u001b[38;5;28mself\u001b[39m\u001b[38;5;241m.\u001b[39m_reindex_non_unique(keyarr)\n\u001b[1;32m-> 6200\u001b[0m \u001b[38;5;28;43mself\u001b[39;49m\u001b[38;5;241;43m.\u001b[39;49m\u001b[43m_raise_if_missing\u001b[49m\u001b[43m(\u001b[49m\u001b[43mkeyarr\u001b[49m\u001b[43m,\u001b[49m\u001b[43m \u001b[49m\u001b[43mindexer\u001b[49m\u001b[43m,\u001b[49m\u001b[43m \u001b[49m\u001b[43maxis_name\u001b[49m\u001b[43m)\u001b[49m\n\u001b[0;32m   6202\u001b[0m keyarr \u001b[38;5;241m=\u001b[39m \u001b[38;5;28mself\u001b[39m\u001b[38;5;241m.\u001b[39mtake(indexer)\n\u001b[0;32m   6203\u001b[0m \u001b[38;5;28;01mif\u001b[39;00m \u001b[38;5;28misinstance\u001b[39m(key, Index):\n\u001b[0;32m   6204\u001b[0m     \u001b[38;5;66;03m# GH 42790 - Preserve name from an Index\u001b[39;00m\n",
      "File \u001b[1;32mc:\\Users\\jonaz\\AppData\\Local\\Programs\\Python\\Python313\\Lib\\site-packages\\pandas\\core\\indexes\\base.py:6252\u001b[0m, in \u001b[0;36mIndex._raise_if_missing\u001b[1;34m(self, key, indexer, axis_name)\u001b[0m\n\u001b[0;32m   6249\u001b[0m     \u001b[38;5;28;01mraise\u001b[39;00m \u001b[38;5;167;01mKeyError\u001b[39;00m(\u001b[38;5;124mf\u001b[39m\u001b[38;5;124m\"\u001b[39m\u001b[38;5;124mNone of [\u001b[39m\u001b[38;5;132;01m{\u001b[39;00mkey\u001b[38;5;132;01m}\u001b[39;00m\u001b[38;5;124m] are in the [\u001b[39m\u001b[38;5;132;01m{\u001b[39;00maxis_name\u001b[38;5;132;01m}\u001b[39;00m\u001b[38;5;124m]\u001b[39m\u001b[38;5;124m\"\u001b[39m)\n\u001b[0;32m   6251\u001b[0m not_found \u001b[38;5;241m=\u001b[39m \u001b[38;5;28mlist\u001b[39m(ensure_index(key)[missing_mask\u001b[38;5;241m.\u001b[39mnonzero()[\u001b[38;5;241m0\u001b[39m]]\u001b[38;5;241m.\u001b[39munique())\n\u001b[1;32m-> 6252\u001b[0m \u001b[38;5;28;01mraise\u001b[39;00m \u001b[38;5;167;01mKeyError\u001b[39;00m(\u001b[38;5;124mf\u001b[39m\u001b[38;5;124m\"\u001b[39m\u001b[38;5;132;01m{\u001b[39;00mnot_found\u001b[38;5;132;01m}\u001b[39;00m\u001b[38;5;124m not in index\u001b[39m\u001b[38;5;124m\"\u001b[39m)\n",
      "\u001b[1;31mKeyError\u001b[0m: \"['median'] not in index\""
     ]
    }
   ],
   "source": [
    "# Execute the analysis for drug code \"medA\"\n",
    "result_medA = see(\"medA\", data)\n",
    "# Execute the analysis for drug code \"medB\"\n",
    "result_medB = see(\"medB\", data)\n",
    "\n",
    "# Generate boxplots of prescription intervals by sequence using see_assumption()\n",
    "fig_medA = see_assumption(result_medA)\n",
    "fig_medB = see_assumption(result_medB)\n",
    "\n",
    "print(\"Analysis complete. All plots have been saved as PNG files in the current working directory.\")\n"
   ]
  },
  {
   "cell_type": "markdown",
   "metadata": {},
   "source": []
  }
 ],
 "metadata": {
  "kernelspec": {
   "display_name": "Python 3",
   "language": "python",
   "name": "python3"
  },
  "language_info": {
   "codemirror_mode": {
    "name": "ipython",
    "version": 3
   },
   "file_extension": ".py",
   "mimetype": "text/x-python",
   "name": "python",
   "nbconvert_exporter": "python",
   "pygments_lexer": "ipython3",
   "version": "3.13.2"
  }
 },
 "nbformat": 4,
 "nbformat_minor": 2
}
